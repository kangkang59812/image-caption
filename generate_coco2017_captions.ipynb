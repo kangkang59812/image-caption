{
 "cells": [
  {
   "cell_type": "code",
   "execution_count": 24,
   "metadata": {},
   "outputs": [],
   "source": [
    "path = '../../datasets/coco2017/annotations/'"
   ]
  },
  {
   "cell_type": "code",
   "execution_count": 43,
   "metadata": {},
   "outputs": [],
   "source": [
    "import json\n",
    "val = json.load(open(path+'captions_val2017.json', 'r'))\n",
    "train = json.load(open(path+'captions_train2017.json', 'r'))"
   ]
  },
  {
   "cell_type": "code",
   "execution_count": 44,
   "metadata": {},
   "outputs": [
    {
     "name": "stdout",
     "output_type": "stream",
     "text": [
      "dict_keys(['info', 'licenses', 'images', 'annotations'])\n",
      "{'description': 'COCO 2017 Dataset', 'url': 'http://cocodataset.org', 'version': '1.0', 'year': 2017, 'contributor': 'COCO Consortium', 'date_created': '2017/09/01'}\n",
      "5000\n",
      "25014\n",
      "{'license': 4, 'file_name': '000000397133.jpg', 'coco_url': 'http://images.cocodataset.org/val2017/000000397133.jpg', 'height': 427, 'width': 640, 'date_captured': '2013-11-14 17:02:52', 'flickr_url': 'http://farm7.staticflickr.com/6116/6255196340_da26cf2c9e_z.jpg', 'id': 397133}\n",
      "{'image_id': 179765, 'id': 38, 'caption': 'A black Honda motorcycle parked in front of a garage.'}\n"
     ]
    }
   ],
   "source": [
    "print(val.keys())\n",
    "print(val['info'])\n",
    "print(len(val['images']))\n",
    "print(len(val['annotations']))\n",
    "print(val['images'][0])\n",
    "print(val['annotations'][0])"
   ]
  },
  {
   "cell_type": "code",
   "execution_count": 45,
   "metadata": {},
   "outputs": [
    {
     "name": "stdout",
     "output_type": "stream",
     "text": [
      "{'license': 3, 'file_name': '000000391895.jpg', 'coco_url': 'http://images.cocodataset.org/train2017/000000391895.jpg', 'height': 360, 'width': 640, 'date_captured': '2013-11-14 11:18:45', 'flickr_url': 'http://farm9.staticflickr.com/8186/8119368305_4e622c8349_z.jpg', 'id': 391895}\n",
      "{'image_id': 203564, 'id': 37, 'caption': 'A bicycle replica with a clock as the front wheel.'}\n"
     ]
    }
   ],
   "source": [
    "print(train['images'][0])\n",
    "print(train['annotations'][0])\n",
    "print(len(val['images']))\n",
    "print(len(val['annotations']))"
   ]
  },
  {
   "cell_type": "code",
   "execution_count": 83,
   "metadata": {},
   "outputs": [
    {
     "data": {
      "text/plain": [
       "'12320420.jpg'"
      ]
     },
     "execution_count": 83,
     "metadata": {},
     "output_type": "execute_result"
    }
   ],
   "source": [
    "'000012320420.jpg'.lstrip('0')"
   ]
  },
  {
   "cell_type": "code",
   "execution_count": 72,
   "metadata": {},
   "outputs": [],
   "source": [
    "imgs = val['images'] + train['images']\n",
    "annots = val['annotations'] + train['annotations']"
   ]
  },
  {
   "cell_type": "code",
   "execution_count": 84,
   "metadata": {},
   "outputs": [],
   "source": [
    "dataset = {'dataset':'coco2017'}\n",
    "itoa = {}\n",
    "for a in annots:\n",
    "    imgid = a['image_id']\n",
    "    if not imgid in itoa: itoa[imgid] = []\n",
    "    itoa[imgid].append(a)\n",
    "out=[]\n",
    "for i,img in enumerate(imgs):\n",
    "    if i<=1:\n",
    "        item = {}\n",
    "        item[\"filepath\"]= \"train2017\" if 'train' in img['coco_url'] else \"val2017\"\n",
    "        item[\"sentids\"] = [s_id['id'] for s_id in itoa[img['id']]]\n",
    "        item[\"filename\"] = img[\"file_name\"]\n",
    "        item[\"imgid\"] = i\n",
    "        item[\"split\"] = item[\"filepath\"][:-4]\n",
    "        item[\"sentences\"] = []\n",
    "        for cap in itoa[img['id']]:\n",
    "            s_item={}\n",
    "            s_item[\"tokens\"]=re.sub(\"[^a-zA-Z\\s]\",'',cap[\"caption\"]).split()\n",
    "            s_item[\"raw\"]=cap[\"caption\"]\n",
    "            s_item[\"imgid\"]=item[\"imgid\"]\n",
    "            s_item[\"sentid\"]=cap[\"id\"]\n",
    "            item[\"sentences\"].append(s_item)\n",
    "        item[\"cocoid\"]=img[\"file_name\"][:-4].lstrip('0')\n",
    "        out.append(item)\n",
    "result={\"images\":out}\n",
    "result.update(dataset)"
   ]
  },
  {
   "cell_type": "code",
   "execution_count": 80,
   "metadata": {},
   "outputs": [],
   "source": [
    "json.dump(result,open('dataset_coco2017.json','w'))"
   ]
  },
  {
   "cell_type": "code",
   "execution_count": 85,
   "metadata": {},
   "outputs": [
    {
     "data": {
      "text/plain": [
       "{'images': [{'filepath': 'val2017',\n",
       "   'sentids': [370509, 370584, 372252, 372765, 375891],\n",
       "   'filename': '000000397133.jpg',\n",
       "   'imgid': 0,\n",
       "   'split': 'val',\n",
       "   'sentences': [{'tokens': ['A',\n",
       "      'man',\n",
       "      'is',\n",
       "      'in',\n",
       "      'a',\n",
       "      'kitchen',\n",
       "      'making',\n",
       "      'pizzas'],\n",
       "     'raw': 'A man is in a kitchen making pizzas.',\n",
       "     'imgid': 0,\n",
       "     'sentid': 370509},\n",
       "    {'tokens': ['Man',\n",
       "      'in',\n",
       "      'apron',\n",
       "      'standing',\n",
       "      'on',\n",
       "      'front',\n",
       "      'of',\n",
       "      'oven',\n",
       "      'with',\n",
       "      'pans',\n",
       "      'and',\n",
       "      'bakeware'],\n",
       "     'raw': 'Man in apron standing on front of oven with pans and bakeware',\n",
       "     'imgid': 0,\n",
       "     'sentid': 370584},\n",
       "    {'tokens': ['A',\n",
       "      'baker',\n",
       "      'is',\n",
       "      'working',\n",
       "      'in',\n",
       "      'the',\n",
       "      'kitchen',\n",
       "      'rolling',\n",
       "      'dough'],\n",
       "     'raw': 'A baker is working in the kitchen rolling dough.',\n",
       "     'imgid': 0,\n",
       "     'sentid': 372252},\n",
       "    {'tokens': ['A',\n",
       "      'person',\n",
       "      'standing',\n",
       "      'by',\n",
       "      'a',\n",
       "      'stove',\n",
       "      'in',\n",
       "      'a',\n",
       "      'kitchen'],\n",
       "     'raw': 'A person standing by a stove in a kitchen.',\n",
       "     'imgid': 0,\n",
       "     'sentid': 372765},\n",
       "    {'tokens': ['A',\n",
       "      'table',\n",
       "      'with',\n",
       "      'pies',\n",
       "      'being',\n",
       "      'made',\n",
       "      'and',\n",
       "      'a',\n",
       "      'person',\n",
       "      'standing',\n",
       "      'near',\n",
       "      'a',\n",
       "      'wall',\n",
       "      'with',\n",
       "      'pots',\n",
       "      'and',\n",
       "      'pans',\n",
       "      'hanging',\n",
       "      'on',\n",
       "      'the',\n",
       "      'wall'],\n",
       "     'raw': 'A table with pies being made and a person standing near a wall with pots and pans hanging on the wall.',\n",
       "     'imgid': 0,\n",
       "     'sentid': 375891}],\n",
       "   'cocoid': '397133'},\n",
       "  {'filepath': 'val2017',\n",
       "   'sentids': [597185, 598568, 599939, 601877, 603617],\n",
       "   'filename': '000000037777.jpg',\n",
       "   'imgid': 1,\n",
       "   'split': 'val',\n",
       "   'sentences': [{'tokens': ['The',\n",
       "      'dining',\n",
       "      'table',\n",
       "      'near',\n",
       "      'the',\n",
       "      'kitchen',\n",
       "      'has',\n",
       "      'a',\n",
       "      'bowl',\n",
       "      'of',\n",
       "      'fruit',\n",
       "      'on',\n",
       "      'it'],\n",
       "     'raw': 'The dining table near the kitchen has a bowl of fruit on it.',\n",
       "     'imgid': 1,\n",
       "     'sentid': 597185},\n",
       "    {'tokens': ['A',\n",
       "      'small',\n",
       "      'kitchen',\n",
       "      'has',\n",
       "      'various',\n",
       "      'appliances',\n",
       "      'and',\n",
       "      'a',\n",
       "      'table'],\n",
       "     'raw': 'A small kitchen has various appliances and a table.',\n",
       "     'imgid': 1,\n",
       "     'sentid': 598568},\n",
       "    {'tokens': ['The',\n",
       "      'kitchen',\n",
       "      'is',\n",
       "      'clean',\n",
       "      'and',\n",
       "      'ready',\n",
       "      'for',\n",
       "      'us',\n",
       "      'to',\n",
       "      'see'],\n",
       "     'raw': 'The kitchen is clean and ready for us to see.',\n",
       "     'imgid': 1,\n",
       "     'sentid': 599939},\n",
       "    {'tokens': ['A',\n",
       "      'kitchen',\n",
       "      'and',\n",
       "      'dining',\n",
       "      'area',\n",
       "      'decorated',\n",
       "      'in',\n",
       "      'white'],\n",
       "     'raw': 'A kitchen and dining area decorated in white.',\n",
       "     'imgid': 1,\n",
       "     'sentid': 601877},\n",
       "    {'tokens': ['A',\n",
       "      'kitchen',\n",
       "      'that',\n",
       "      'has',\n",
       "      'a',\n",
       "      'bowl',\n",
       "      'of',\n",
       "      'fruit',\n",
       "      'on',\n",
       "      'the',\n",
       "      'table'],\n",
       "     'raw': 'A kitchen that has a bowl of fruit on the table.',\n",
       "     'imgid': 1,\n",
       "     'sentid': 603617}],\n",
       "   'cocoid': '37777'}],\n",
       " 'dataset': 'coco2017'}"
      ]
     },
     "execution_count": 85,
     "metadata": {},
     "output_type": "execute_result"
    }
   ],
   "source": [
    "result"
   ]
  },
  {
   "cell_type": "code",
   "execution_count": 77,
   "metadata": {},
   "outputs": [],
   "source": []
  },
  {
   "cell_type": "code",
   "execution_count": 78,
   "metadata": {},
   "outputs": [],
   "source": [
    "json.dump(result,open('dataset_coco2017.json','w'))"
   ]
  },
  {
   "cell_type": "code",
   "execution_count": 20,
   "metadata": {},
   "outputs": [],
   "source": [
    "data = json.load(open(path2, 'r'))"
   ]
  },
  {
   "cell_type": "code",
   "execution_count": 21,
   "metadata": {},
   "outputs": [
    {
     "data": {
      "text/plain": [
       "dict_keys(['images', 'dataset'])"
      ]
     },
     "execution_count": 21,
     "metadata": {},
     "output_type": "execute_result"
    }
   ],
   "source": [
    "data.keys()"
   ]
  },
  {
   "cell_type": "code",
   "execution_count": 23,
   "metadata": {},
   "outputs": [
    {
     "data": {
      "text/plain": [
       "{'filepath': 'val2014',\n",
       " 'sentids': [770337, 771687, 772707, 776154, 781998],\n",
       " 'filename': 'COCO_val2014_000000391895.jpg',\n",
       " 'imgid': 0,\n",
       " 'split': 'test',\n",
       " 'sentences': [{'tokens': ['a',\n",
       "    'man',\n",
       "    'with',\n",
       "    'a',\n",
       "    'red',\n",
       "    'helmet',\n",
       "    'on',\n",
       "    'a',\n",
       "    'small',\n",
       "    'moped',\n",
       "    'on',\n",
       "    'a',\n",
       "    'dirt',\n",
       "    'road'],\n",
       "   'raw': 'A man with a red helmet on a small moped on a dirt road. ',\n",
       "   'imgid': 0,\n",
       "   'sentid': 770337},\n",
       "  {'tokens': ['man',\n",
       "    'riding',\n",
       "    'a',\n",
       "    'motor',\n",
       "    'bike',\n",
       "    'on',\n",
       "    'a',\n",
       "    'dirt',\n",
       "    'road',\n",
       "    'on',\n",
       "    'the',\n",
       "    'countryside'],\n",
       "   'raw': 'Man riding a motor bike on a dirt road on the countryside.',\n",
       "   'imgid': 0,\n",
       "   'sentid': 771687},\n",
       "  {'tokens': ['a',\n",
       "    'man',\n",
       "    'riding',\n",
       "    'on',\n",
       "    'the',\n",
       "    'back',\n",
       "    'of',\n",
       "    'a',\n",
       "    'motorcycle'],\n",
       "   'raw': 'A man riding on the back of a motorcycle.',\n",
       "   'imgid': 0,\n",
       "   'sentid': 772707},\n",
       "  {'tokens': ['a',\n",
       "    'dirt',\n",
       "    'path',\n",
       "    'with',\n",
       "    'a',\n",
       "    'young',\n",
       "    'person',\n",
       "    'on',\n",
       "    'a',\n",
       "    'motor',\n",
       "    'bike',\n",
       "    'rests',\n",
       "    'to',\n",
       "    'the',\n",
       "    'foreground',\n",
       "    'of',\n",
       "    'a',\n",
       "    'verdant',\n",
       "    'area',\n",
       "    'with',\n",
       "    'a',\n",
       "    'bridge',\n",
       "    'and',\n",
       "    'a',\n",
       "    'background',\n",
       "    'of',\n",
       "    'cloud',\n",
       "    'wreathed',\n",
       "    'mountains'],\n",
       "   'raw': 'A dirt path with a young person on a motor bike rests to the foreground of a verdant area with a bridge and a background of cloud-wreathed mountains. ',\n",
       "   'imgid': 0,\n",
       "   'sentid': 776154},\n",
       "  {'tokens': ['a',\n",
       "    'man',\n",
       "    'in',\n",
       "    'a',\n",
       "    'red',\n",
       "    'shirt',\n",
       "    'and',\n",
       "    'a',\n",
       "    'red',\n",
       "    'hat',\n",
       "    'is',\n",
       "    'on',\n",
       "    'a',\n",
       "    'motorcycle',\n",
       "    'on',\n",
       "    'a',\n",
       "    'hill',\n",
       "    'side'],\n",
       "   'raw': 'A man in a red shirt and a red hat is on a motorcycle on a hill side.',\n",
       "   'imgid': 0,\n",
       "   'sentid': 781998}],\n",
       " 'cocoid': 391895}"
      ]
     },
     "execution_count": 23,
     "metadata": {},
     "output_type": "execute_result"
    }
   ],
   "source": [
    "data['images'][0]"
   ]
  },
  {
   "cell_type": "code",
   "execution_count": null,
   "metadata": {},
   "outputs": [],
   "source": []
  }
 ],
 "metadata": {
  "kernelspec": {
   "display_name": "Python 3",
   "language": "python",
   "name": "python3"
  },
  "language_info": {
   "codemirror_mode": {
    "name": "ipython",
    "version": 3
   },
   "file_extension": ".py",
   "mimetype": "text/x-python",
   "name": "python",
   "nbconvert_exporter": "python",
   "pygments_lexer": "ipython3",
   "version": "3.6.8"
  }
 },
 "nbformat": 4,
 "nbformat_minor": 2
}
